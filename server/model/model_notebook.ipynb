{
  "nbformat": 4,
  "nbformat_minor": 0,
  "metadata": {
    "colab": {
      "name": "model_notebook",
      "provenance": [],
      "collapsed_sections": [],
      "authorship_tag": "ABX9TyOQsdvS0qQ2Y84hhH59Ydxc",
      "include_colab_link": true
    },
    "kernelspec": {
      "name": "python3",
      "display_name": "Python 3"
    },
    "language_info": {
      "name": "python"
    }
  },
  "cells": [
    {
      "cell_type": "markdown",
      "metadata": {
        "id": "view-in-github",
        "colab_type": "text"
      },
      "source": [
        "<a href=\"https://colab.research.google.com/github/erict-catchfire/catchfire-finance/blob/model_development/server/model/model_notebook.ipynb\" target=\"_parent\"><img src=\"https://colab.research.google.com/assets/colab-badge.svg\" alt=\"Open In Colab\"/></a>"
      ]
    },
    {
      "cell_type": "code",
      "metadata": {
        "id": "t64ihidI4IMT"
      },
      "source": [
        "# Notebook for Initial Model Development"
      ],
      "execution_count": null,
      "outputs": []
    }
  ]
}